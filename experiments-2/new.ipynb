{
 "cells": [
  {
   "cell_type": "code",
   "execution_count": 13,
   "metadata": {},
   "outputs": [],
   "source": [
    "import os\n",
    "os.environ[\"GROQ_API_KEY\"] = \"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\""
   ]
  },
  {
   "cell_type": "code",
   "execution_count": 14,
   "metadata": {},
   "outputs": [
    {
     "name": "stdout",
     "output_type": "stream",
     "text": [
      "{\n",
      "  \"name\": \"Kees Van Der Westen Speedster\",\n",
      "  \"price\": 14499,\n",
      "  \"features\": [\n",
      "    \"Dual boilers for brewing and steaming\",\n",
      "    \"PID temperature control for consistency\",\n",
      "    \"Unique pre-infusion system to enhance flavor extraction\",\n",
      "    \"Customizable aesthetics\",\n",
      "    \"Exceptional thermal stability\",\n",
      "    \"Intuitive operation via a lever system\"\n",
      "  ]\n",
      "}\n"
     ]
    }
   ],
   "source": [
    "from langchain_groq import ChatGroq\n",
    "from langchain_core.prompts import ChatPromptTemplate\n",
    "from langchain_core.output_parsers import JsonOutputParser\n",
    "import json\n",
    "\n",
    "# Initialize Groq LLM\n",
    "llm = ChatGroq(\n",
    "    model_name=\"llama-3.3-70b-versatile\",\n",
    "    temperature=0.7\n",
    ")\n",
    "\n",
    "# Define the expected JSON structure\n",
    "parser = JsonOutputParser(pydantic_object={\n",
    "    \"type\": \"object\",\n",
    "    \"properties\": {\n",
    "        \"name\": {\"type\": \"string\"},\n",
    "        \"price\": {\"type\": \"number\"},\n",
    "        \"features\": {\n",
    "            \"type\": \"array\",\n",
    "            \"items\": {\"type\": \"string\"}\n",
    "        }\n",
    "    }\n",
    "})\n",
    "\n",
    "# Create a simple prompt\n",
    "prompt = ChatPromptTemplate.from_messages([\n",
    "    (\"system\", \"\"\"Extract product details into JSON with this structure:\n",
    "        {{\n",
    "            \"name\": \"product name here\",\n",
    "            \"price\": number_here_without_currency_symbol,\n",
    "            \"features\": [\"feature1\", \"feature2\", \"feature3\"]\n",
    "        }}\"\"\"),\n",
    "    (\"user\", \"{input}\")\n",
    "])\n",
    "\n",
    "# Create the chain that guarantees JSON output\n",
    "chain = prompt | llm | parser\n",
    "\n",
    "def parse_product(description: str) -> dict:\n",
    "    result = chain.invoke({\"input\": description})\n",
    "    print(json.dumps(result, indent=2))\n",
    "\n",
    "        \n",
    "# Example usage\n",
    "description = \"\"\"The Kees Van Der Westen Speedster is a high-end, single-group espresso machine known for its precision, performance, \n",
    "and industrial design. Handcrafted in the Netherlands, it features dual boilers for brewing and steaming, PID temperature control for \n",
    "consistency, and a unique pre-infusion system to enhance flavor extraction. Designed for enthusiasts and professionals, it offers \n",
    "customizable aesthetics, exceptional thermal stability, and intuitive operation via a lever system. The pricing is approximatelyt $14,499 \n",
    "depending on the retailer and customization options.\"\"\"\n",
    "\n",
    "parse_product(description)\n"
   ]
  },
  {
   "cell_type": "code",
   "execution_count": null,
   "metadata": {},
   "outputs": [],
   "source": []
  }
 ],
 "metadata": {
  "kernelspec": {
   "display_name": "Python 3",
   "language": "python",
   "name": "python3"
  },
  "language_info": {
   "codemirror_mode": {
    "name": "ipython",
    "version": 3
   },
   "file_extension": ".py",
   "mimetype": "text/x-python",
   "name": "python",
   "nbconvert_exporter": "python",
   "pygments_lexer": "ipython3",
   "version": "3.9.21"
  }
 },
 "nbformat": 4,
 "nbformat_minor": 2
}
