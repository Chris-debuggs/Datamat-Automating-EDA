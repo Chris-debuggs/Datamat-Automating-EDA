{
 "cells": [
  {
   "cell_type": "code",
   "execution_count": 3,
   "metadata": {},
   "outputs": [],
   "source": [
    "import os\n",
    "import pandas as pd\n",
    "import PyPDF2\n",
    "\n",
    "from langchain_huggingface import HuggingFaceEmbeddings\n",
    "from langchain_huggingface import HuggingFaceEndpoint\n",
    "from langchain import HuggingFaceHub\n",
    "from langchain.chains import LLMChain,SequentialChain\n",
    "from langchain.prompts import PromptTemplate\n",
    "\n",
    "from langchain.text_splitter import RecursiveJsonSplitter"
   ]
  },
  {
   "cell_type": "code",
   "execution_count": 5,
   "metadata": {},
   "outputs": [
    {
     "name": "stdout",
     "output_type": "stream",
     "text": [
      "CSV file '/home/voidreaper/Projects/Mini-Project/datamat/experiments/corporate_stress_dataset_formatted.csv' has been converted to JSON and saved as '/home/voidreaper/Projects/Mini-Project/datamat/experiments/corporate_stress_dataset_formatted.json'\n"
     ]
    }
   ],
   "source": [
    "import csv\n",
    "import json\n",
    "\n",
    "# Read the CSV file\n",
    "csv_file = '/home/voidreaper/Projects/Mini-Project/datamat/experiments/corporate_stress_dataset_formatted.csv'\n",
    "json_file = '/home/voidreaper/Projects/Mini-Project/datamat/experiments/corporate_stress_dataset_formatted.json'\n",
    "\n",
    "with open(csv_file, mode='r') as infile:\n",
    "    reader = csv.DictReader(infile)\n",
    "    rows = list(reader)\n",
    "\n",
    "# Write to JSON file\n",
    "with open(json_file, mode='w') as outfile:\n",
    "    json.dump(rows, outfile, indent=4)\n",
    "\n",
    "print(f\"CSV file '{csv_file}' has been converted to JSON and saved as '{json_file}'\")\n"
   ]
  },
  {
   "cell_type": "code",
   "execution_count": null,
   "metadata": {},
   "outputs": [],
   "source": []
  }
 ],
 "metadata": {
  "kernelspec": {
   "display_name": "Python 3",
   "language": "python",
   "name": "python3"
  },
  "language_info": {
   "codemirror_mode": {
    "name": "ipython",
    "version": 3
   },
   "file_extension": ".py",
   "mimetype": "text/x-python",
   "name": "python",
   "nbconvert_exporter": "python",
   "pygments_lexer": "ipython3",
   "version": "3.8.20"
  }
 },
 "nbformat": 4,
 "nbformat_minor": 2
}
